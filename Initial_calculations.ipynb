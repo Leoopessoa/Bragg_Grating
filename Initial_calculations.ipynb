{
 "cells": [
  {
   "cell_type": "code",
   "execution_count": 1,
   "metadata": {},
   "outputs": [
    {
     "name": "stderr",
     "output_type": "stream",
     "text": [
      "C:\\Users\\lecob\\AppData\\Local\\Temp\\ipykernel_16584\\225875404.py:4: DeprecationWarning: the imp module is deprecated in favour of importlib; see the module's documentation for alternative uses\n",
      "  import imp\n"
     ]
    }
   ],
   "source": [
    "# 25 nm - 1550 nm\n",
    "\n",
    "import os\n",
    "import imp\n",
    "import matplotlib.pyplot as plt\n",
    "import numpy as np\n",
    "import math\n",
    "import pandas as pd\n",
    "import sys\n",
    "import pickle as plk\n",
    "import importlib.util\n",
    "from numpy.lib.scimath import sqrt as csqrt\n",
    "from IPython.display import display, Math, clear_output\n",
    "\n",
    "###############################################################\n",
    "#LINUX PATH\n",
    "\n",
    "# sys.path.append(\"/opt/lumerical/v221/api/python\") #Default linux lumapi path\n",
    "# import lumapi\n",
    "# sys.path.append(os.path.dirname('/media/leonardo/datam02/Ring Resonator - Leonardo Pessôa/Ring-Resonator/Tutorial/')) #Current directory\n",
    "\n",
    "###############################################################\n",
    "# WINDOWS PATH\n",
    "\n",
    "spec_win = importlib.util.spec_from_file_location('lumapi', 'C:\\\\Program Files\\\\Lumerical\\\\v202\\\\api\\\\python\\\\lumapi.py')\n",
    "lumapi = importlib.util.module_from_spec(spec_win)\n",
    "os.add_dll_directory(\"C:/Program Files/Lumerical/v202/api/python\")\n",
    "sys.path.append(os.path.dirname('D:/AAAAAAAArquivos/Facul/Capacitação/GitHub/BraggGrating'))\n",
    "spec_win.loader.exec_module(lumapi)\n",
    "\n",
    "\n",
    "def fwhm(band, reflection, dB):\n",
    "    from scipy.signal import find_peaks\n",
    "    peak, pd = find_peaks(reflection)\n",
    "    rmax = reflection[peak[np.argmax(reflection[peak])]]\n",
    "\n",
    "    if dB == True: \n",
    "        dB = 3\n",
    "        rmax = rmax-dB\n",
    "    else: \n",
    "        dB = 0 \n",
    "        rmax = rmax/2\n",
    "\n",
    "    for i in range(0, len(band)):\n",
    "        if (reflection[i] <(rmax) and reflection[i+1] > (rmax)):\n",
    "            min = i\n",
    "            break\n",
    "\n",
    "    for i in range(int(band[-1]/2), len(band)):\n",
    "        if (reflection[i] > (rmax) and reflection[i+1] < (rmax)):\n",
    "            max = i\n",
    "            break\n",
    "    print('FWHM = '+ str(np.round((band[max]-band[min])*1e9,4)) + 'nm')\n",
    "\n",
    "    dots = [band[min]*1e9,reflection[min],band[max]*1e9, reflection[max]]\n",
    "    \n",
    "    return dots,min,max\n"
   ]
  },
  {
   "cell_type": "code",
   "execution_count": 2,
   "metadata": {},
   "outputs": [],
   "source": [
    "band = np.linspace(1500*1e-9, 1600*1e-9, 20000)\n",
    "Cband = np.linspace(1530*1e-9, 1565*1e-9, 20000)"
   ]
  },
  {
   "cell_type": "markdown",
   "metadata": {},
   "source": [
    "# Python Theoretical Graphics"
   ]
  },
  {
   "cell_type": "markdown",
   "metadata": {},
   "source": [
    "Using 0.45µm Width"
   ]
  },
  {
   "cell_type": "code",
   "execution_count": 3,
   "metadata": {},
   "outputs": [],
   "source": [
    "mode = lumapi.MODE()"
   ]
  },
  {
   "cell_type": "code",
   "execution_count": 4,
   "metadata": {},
   "outputs": [
    {
     "name": "stdout",
     "output_type": "stream",
     "text": [
      "{!!}\n",
      "\n"
     ]
    },
    {
     "name": "stderr",
     "output_type": "stream",
     "text": [
      "C:\\Program Files\\Lumerical\\v202\\api\\python\\lumapi.py:138: UserWarning: Multiple objects named '::model::rectangle'. Use of this object may give unexpected results.\n",
      "  warnings.warn(message)\n"
     ]
    }
   ],
   "source": [
    "# Getting Neff and Ng\n",
    "mode.switchtolayout()\n",
    "mode.deleteall()\n",
    "mode.addrect()\n",
    "mode.set({\n",
    "    'x'        : 0,\n",
    "    'x span'   : 10e-6,\n",
    "    'y'        : 0,\n",
    "    'y span'   : 0.45e-6,\n",
    "    'z'        : 0.11e-6,\n",
    "    'z span'   : 0.22e-6,\n",
    "    'material' : 'Si (Silicon) - Palik'\n",
    "})\n",
    "mode.addrect()\n",
    "mode.set({\n",
    "    'x'        : 0,\n",
    "    'x span'   : 10e-6,\n",
    "    'y'        : 0,\n",
    "    'y span'   : 15e-6,\n",
    "    'z span'   : 4e-6,\n",
    "    'z max'    : 0e-6,\n",
    "    'material' : 'SiO2 (Glass) - Palik'\n",
    "})\n",
    "mode.addfde()\n",
    "mode.set({\n",
    "    'solver type' : '2D X normal',\n",
    "    'y'           : 0,\n",
    "    'y span'      : 7.5e-6,\n",
    "    'z'           : 0,\n",
    "    'z span'      : 2e-6,\n",
    "    'mesh cells y': 400,\n",
    "    'mesh cells z': 400,\n",
    "})\n",
    "mode.run()"
   ]
  },
  {
   "cell_type": "code",
   "execution_count": 10,
   "metadata": {},
   "outputs": [],
   "source": [
    "# Constants\n",
    "\n",
    "lambda_B = 1550e-9\n",
    "pi = np.pi\n",
    "c0 = 299792458\n",
    "neff = 2.27\n",
    "k0 = 2*pi/lambda_B\n",
    "ng = 4.60\n",
    "FWHM = 25e-9\n",
    "beta = k0*neff\n",
    "gratingPeriod = lambda_B/(2*neff)"
   ]
  },
  {
   "cell_type": "code",
   "execution_count": 38,
   "metadata": {},
   "outputs": [
    {
     "name": "stderr",
     "output_type": "stream",
     "text": [
      "C:\\Users\\lecob\\AppData\\Local\\Temp\\ipykernel_16584\\3583791069.py:15: RuntimeWarning: invalid value encountered in sqrt\n",
      "  k = np.sqrt((FWHM*np.pi*ng/lambda_B**2)**2 - (pi/L)**2)\n"
     ]
    },
    {
     "data": {
      "image/png": "[encoded data removed]",
      "text/plain": [
       "<Figure size 864x720 with 1 Axes>"
      ]
     },
     "metadata": {
      "needs_background": "light"
     },
     "output_type": "display_data"
    }
   ],
   "source": [
    "# Getting the Lenght and number of periods\n",
    "figure1 = plt.figure(figsize=(12, 10))\n",
    "\n",
    "N = np.linspace(60,200,100)\n",
    "\n",
    "plt.grid()\n",
    "plt.title('N x r$_{%s}$' %('max'), size = 20)\n",
    "plt.ylabel('r$_{%s}$' %('max'), size = '20')\n",
    "plt.xlabel('N', size = '20')\n",
    "plt.xlim(N[0], N[-1])\n",
    "plt.xticks(np.arange(N[0], N[-1], 10), size = '15')\n",
    "\n",
    "\n",
    "L = gratingPeriod*N\n",
    "k = np.sqrt((FWHM*np.pi*ng/lambda_B**2)**2 - (pi/L)**2)\n",
    "rmax = (np.tanh(k*L))**2\n",
    "plt.plot(N, rmax, linewidth = 3)\n",
    "\n",
    "figure1.savefig('N_x_rmax.png')"
   ]
  },
  {
   "cell_type": "code",
   "execution_count": 111,
   "metadata": {},
   "outputs": [
    {
     "name": "stdout",
     "output_type": "stream",
     "text": [
      "rmax = 0.9954500511497567\n",
      "L = 30.726872246696036um\n",
      "delta neff = 0.08546114643017334\n"
     ]
    }
   ],
   "source": [
    "N = 90\n",
    "L = gratingPeriod*N\n",
    "k = np.sqrt((FWHM*np.pi*ng/lambda_B**2)**2 - (pi/L)**2)\n",
    "rmax = (np.tanh(k*L))**2\n",
    "\n",
    "deltaNeff = k*lambda_B/2\n",
    "print('rmax = ' + str(rmax))\n",
    "print('L = ' + str(L*1e6) + 'um')\n",
    "print('delta neff = ' + str(deltaNeff))"
   ]
  },
  {
   "cell_type": "code",
   "execution_count": 47,
   "metadata": {},
   "outputs": [],
   "source": [
    "mode = lumapi.MODE()"
   ]
  },
  {
   "cell_type": "code",
   "execution_count": 4,
   "metadata": {},
   "outputs": [],
   "source": [
    "# Getting Neff X DeltaW graph\n",
    "\n",
    "mode.switchtolayout()\n",
    "mode.deleteall()\n",
    "mode.addrect()\n",
    "mode.set({\n",
    "    'x'        : 0,\n",
    "    'x span'   : 10e-6,\n",
    "    'y'        : 0,\n",
    "    'y span'   : 0.45e-6,\n",
    "    'z'        : 0.11e-6,\n",
    "    'z span'   : 0.22e-6,\n",
    "    'material' : 'Si (Silicon) - Palik',\n",
    "    'name'     : 'waveguide'\n",
    "})\n",
    "mode.addrect()\n",
    "mode.set({\n",
    "    'x'        : 0,\n",
    "    'x span'   : 10e-6,\n",
    "    'y'        : 0,\n",
    "    'y span'   : 15e-6,\n",
    "    'z span'   : 4e-6,\n",
    "    'z max'    : 0e-6,\n",
    "    'material' : 'SiO2 (Glass) - Palik',\n",
    "    'name'     : 'substract'\n",
    "})\n",
    "mode.addfde()\n",
    "mode.set({\n",
    "    'solver type' : '2D X normal',\n",
    "    'y'           : 0,\n",
    "    'y span'      : 7.5e-6,\n",
    "    'z'           : 0,\n",
    "    'z span'      : 2e-6,\n",
    "    'mesh cells y': 200,\n",
    "    'mesh cells z': 200,\n",
    "})\n"
   ]
  },
  {
   "cell_type": "code",
   "execution_count": null,
   "metadata": {},
   "outputs": [],
   "source": [
    "a = 20\n",
    "deltaW = np.linspace(0,150e-9, a)\n",
    "\n",
    "neff1 = np.zeros(a)\n",
    "neff2 = np.zeros(a)\n",
    "\n",
    "mode.switchtolayout()\n",
    "\n",
    "#neff1 array\n",
    "for i in range(a):\n",
    "    mode.setnamed('waveguide', 'y span', 0.45e-6 + deltaW[i])\n",
    "    mode.run()\n",
    "    mode.findmodes()\n",
    "    neff1[i] = np.real(mode.getdata('FDE::data::mode1','neff'))\n",
    "    mode.switchtolayout()\n",
    "    clear_output(wait=True)\n",
    "    print('Neff1 (' + str(i+1)+ '/' + str(a) + ') Done')\n",
    "\n",
    "#neff2 array\n",
    "for i in range(a):\n",
    "    mode.setnamed('waveguide', 'y span', 0.45e-6 - deltaW[i])\n",
    "    mode.run()\n",
    "    mode.findmodes()\n",
    "    neff2[i] = np.real(mode.getdata('FDE::data::mode1','neff'))\n",
    "    mode.switchtolayout()\n",
    "    clear_output(wait=True)\n",
    "    print('Neff1 ({}/{}) Done'.format(a,a))\n",
    "    print('Neff2 (' + str(i+1)+ '/' + str(a) + ') Done')"
   ]
  },
  {
   "cell_type": "code",
   "execution_count": 105,
   "metadata": {},
   "outputs": [
    {
     "name": "stdout",
     "output_type": "stream",
     "text": [
      "[0.00000000e+00 7.89473684e-09 1.57894737e-08 2.36842105e-08\n",
      " 3.15789474e-08 3.94736842e-08 4.73684211e-08 5.52631579e-08\n",
      " 6.31578947e-08 7.10526316e-08 7.89473684e-08 8.68421053e-08\n",
      " 9.47368421e-08 1.02631579e-07 1.10526316e-07 1.18421053e-07\n",
      " 1.26315789e-07 1.34210526e-07 1.42105263e-07 1.50000000e-07]\n"
     ]
    },
    {
     "data": {
      "image/png": "[encoded data removed]",
      "text/plain": [
       "<Figure size 864x720 with 1 Axes>"
      ]
     },
     "metadata": {
      "needs_background": "light"
     },
     "output_type": "display_data"
    }
   ],
   "source": [
    "figure2 = plt.figure(figsize=(12, 10))\n",
    "deltaNeff = neff1 - neff2\n",
    "plt.grid()\n",
    "plt.title('$\\Delta$W X $\\Delta$Neff', size = 20)\n",
    "plt.xlabel('$\\Delta$W (nm)', size = '15')\n",
    "plt.ylabel('$\\Delta$Neff', size = '15')\n",
    "plt.axhline(y=0.1064, xmax = 0.15, linestyle='--', color = 'grey')\n",
    "plt.axvline(x=9, ymax=(0.15), linestyle='--', color = 'grey')\n",
    "plt.xticks(size = '15')\n",
    "plt.plot(deltaW*1e9/2, deltaNeff, linewidth = 3)\n",
    "print(deltaW)\n",
    "figure2.savefig('DeltaW_x_DeltaNeff.png')"
   ]
  }
 ],
 "metadata": {
  "kernelspec": {
   "display_name": "Python 3.9.13 64-bit (microsoft store)",
   "language": "python",
   "name": "python3"
  },
  "language_info": {
   "codemirror_mode": {
    "name": "ipython",
    "version": 3
   },
   "file_extension": ".py",
   "mimetype": "text/x-python",
   "name": "python",
   "nbconvert_exporter": "python",
   "pygments_lexer": "ipython3",
   "version": "3.9.13"
  },
  "orig_nbformat": 4,
  "vscode": {
   "interpreter": {
    "hash": "bf076ef5822da1ce46e875877599a0fd2da3bc7135f315e9f790aa9e65b3b6ff"
   }
  }
 },
 "nbformat": 4,
 "nbformat_minor": 2
}
