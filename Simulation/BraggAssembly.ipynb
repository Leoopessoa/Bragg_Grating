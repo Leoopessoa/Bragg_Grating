{
 "cells": [
  {
   "cell_type": "code",
   "execution_count": 7,
   "metadata": {},
   "outputs": [
    {
     "name": "stderr",
     "output_type": "stream",
     "text": [
      "/tmp/ipykernel_5161/2317176202.py:8: DeprecationWarning: the imp module is deprecated in favour of importlib; see the module's documentation for alternative uses\n",
      "  import imp\n"
     ]
    }
   ],
   "source": [
    "# 25 nm - 1550 nm\n",
    "\n",
    "import os\n",
    "import matplotlib.pyplot as plt\n",
    "import numpy as np\n",
    "import math\n",
    "import pandas as pd\n",
    "import imp\n",
    "import sys\n",
    "import pickle as plk\n",
    "import importlib.util\n",
    "from numpy.lib.scimath import sqrt as csqrt\n",
    "from IPython.display import display, Math, clear_output\n",
    "from scipy.signal import find_peaks\n",
    "###############################################################\n",
    "#LINUX PATH\n",
    "\n",
    "sys.path.append(\"/opt/lumerical/v221/api/python\") #Default linux lumapi path\n",
    "import lumapi\n",
    "sys.path.append(os.path.dirname('/media/leonardo/datam02/Ring Resonator - Leonardo Pessôa/Ring-Resonator/Tutorial/')) #Current directory\n",
    "\n",
    "###############################################################\n",
    "# WINDOWS PATH\n",
    "\n",
    "# spec_win = importlib.util.spec_from_file_location('lumapi', 'C:\\\\Program Files\\\\Lumerical\\\\v202\\\\api\\\\python\\\\lumapi.py')\n",
    "# lumapi = importlib.util.module_from_spec(spec_win)\n",
    "# os.add_dll_directory(\"C:/Program Files/Lumerical/v202/api/python\")\n",
    "# sys.path.append(os.path.dirname('D:/AAAAAAAArquivos/Facul/Capacitação/GitHub/BraggGrating'))\n",
    "# spec_win.loader.exec_module(lumapi)\n",
    "\n",
    "def fwhm(band, reflection, dB):\n",
    "    from scipy.signal import find_peaks\n",
    "    peak, pd = find_peaks(reflection)\n",
    "    rmax = reflection[peak[np.argmax(reflection[peak])]]\n",
    "\n",
    "    min = 0\n",
    "    max = 0\n",
    "\n",
    "    if dB == True: \n",
    "        dB = 3\n",
    "        rmax = rmax-dB\n",
    "    else: \n",
    "        dB = 0 \n",
    "        rmax = rmax/2\n",
    "\n",
    "    for i in range(peak[np.argmax(reflection[peak])], 0, -1):\n",
    "        if (reflection[i] <(rmax) and reflection[i+1] < (rmax)):\n",
    "            min = i\n",
    "            break\n",
    "\n",
    "    for i in range(peak[np.argmax(reflection[peak])], len(band) - 1):\n",
    "        if (reflection[i-1] > (rmax) and reflection[i] < (rmax)):\n",
    "            max = i\n",
    "            break\n",
    "\n",
    "    print('FWHM = '+ str(np.round((band[max]-band[min])*1e9,4)) + 'nm')\n",
    "\n",
    "    r = (reflection[min] +reflection[max])/2\n",
    "\n",
    "    \n",
    "    return r,min,max"
   ]
  },
  {
   "cell_type": "code",
   "execution_count": 8,
   "metadata": {},
   "outputs": [
    {
     "ename": "LumApiError",
     "evalue": "'appOpen error: \\n Failed to start messaging, check licenses...Insufficient Ansys Lumerical Prep/post processing for FDTD solver licenses available.\\nLicensed number of users already reached.\\nFeature:       lum_fdtd_gui\\nLicense path:  1055@10.75.13.24:\\nFlexNet Licensing error:-4,132.  System Error: 2 \"No such file or directory\"\\n'",
     "output_type": "error",
     "traceback": [
      "\u001b[0;31m---------------------------------------------------------------------------\u001b[0m",
      "\u001b[0;31mLumApiError\u001b[0m                               Traceback (most recent call last)",
      "\u001b[1;32m/media/leonardo/datam02/Bragg_Grating/Simulation/BraggAssembly.ipynb Cell 2\u001b[0m in \u001b[0;36m<cell line: 1>\u001b[0;34m()\u001b[0m\n\u001b[0;32m----> <a href='vscode-notebook-cell:/media/leonardo/datam02/Bragg_Grating/Simulation/BraggAssembly.ipynb#W1sZmlsZQ%3D%3D?line=0'>1</a>\u001b[0m fdtd \u001b[39m=\u001b[39m lumapi\u001b[39m.\u001b[39;49mFDTD()\n",
      "File \u001b[0;32m/opt/lumerical/v221/api/python/lumapi.py:1371\u001b[0m, in \u001b[0;36mFDTD.__init__\u001b[0;34m(self, filename, key, hide, serverArgs, **kwargs)\u001b[0m\n\u001b[1;32m   1370\u001b[0m \u001b[39mdef\u001b[39;00m \u001b[39m__init__\u001b[39m(\u001b[39mself\u001b[39m, filename\u001b[39m=\u001b[39m\u001b[39mNone\u001b[39;00m, key\u001b[39m=\u001b[39m\u001b[39mNone\u001b[39;00m, hide\u001b[39m=\u001b[39m\u001b[39mFalse\u001b[39;00m, serverArgs\u001b[39m=\u001b[39m{}, \u001b[39m*\u001b[39m\u001b[39m*\u001b[39mkwargs):\n\u001b[0;32m-> 1371\u001b[0m     \u001b[39msuper\u001b[39;49m(FDTD, \u001b[39mself\u001b[39;49m)\u001b[39m.\u001b[39;49m\u001b[39m__init__\u001b[39;49m(\u001b[39m'\u001b[39;49m\u001b[39mfdtd\u001b[39;49m\u001b[39m'\u001b[39;49m, filename, key, hide, serverArgs, \u001b[39m*\u001b[39;49m\u001b[39m*\u001b[39;49mkwargs)\n",
      "File \u001b[0;32m/opt/lumerical/v221/api/python/lumapi.py:1093\u001b[0m, in \u001b[0;36mLumerical.__init__\u001b[0;34m(self, product, filename, key, hide, serverArgs, **kwargs)\u001b[0m\n\u001b[1;32m   1082\u001b[0m \u001b[39mdef\u001b[39;00m \u001b[39m__init__\u001b[39m(\u001b[39mself\u001b[39m, product, filename, key, hide, serverArgs, \u001b[39m*\u001b[39m\u001b[39m*\u001b[39mkwargs):\n\u001b[1;32m   1083\u001b[0m     \u001b[39m\"\"\"Keyword Arguments:\u001b[39;00m\n\u001b[1;32m   1084\u001b[0m \u001b[39m            script: A single string containing a script filename, or a collection of strings\u001b[39;00m\n\u001b[1;32m   1085\u001b[0m \u001b[39m                    that are filenames. Preffered types are list and tuple, dicts are not\u001b[39;00m\n\u001b[0;32m   (...)\u001b[0m\n\u001b[1;32m   1091\u001b[0m \u001b[39m                     opened before any scripts specified by the script keyword are run.\u001b[39;00m\n\u001b[1;32m   1092\u001b[0m \u001b[39m    \"\"\"\u001b[39;00m\n\u001b[0;32m-> 1093\u001b[0m     \u001b[39mself\u001b[39m\u001b[39m.\u001b[39mhandle \u001b[39m=\u001b[39m \u001b[39mopen\u001b[39;49m(product, key, hide, serverArgs)\n\u001b[1;32m   1094\u001b[0m     \u001b[39mself\u001b[39m\u001b[39m.\u001b[39mhandle\u001b[39m.\u001b[39m\u001b[39m__doc__\u001b[39m \u001b[39m=\u001b[39m \u001b[39m\"\u001b[39m\u001b[39mhandle to the session\u001b[39m\u001b[39m\"\u001b[39m\n\u001b[1;32m   1096\u001b[0m     \u001b[39mself\u001b[39m\u001b[39m.\u001b[39msyncUserFunctionsFlag \u001b[39m=\u001b[39m \u001b[39mFalse\u001b[39;00m\n",
      "File \u001b[0;32m/opt/lumerical/v221/api/python/lumapi.py:239\u001b[0m, in \u001b[0;36mopen\u001b[0;34m(product, key, hide, serverArgs)\u001b[0m\n\u001b[1;32m    237\u001b[0m         error \u001b[39m=\u001b[39m iapi\u001b[39m.\u001b[39mappGetLastError()\n\u001b[1;32m    238\u001b[0m         error \u001b[39m=\u001b[39m error\u001b[39m.\u001b[39mcontents\u001b[39m.\u001b[39mstr[:error\u001b[39m.\u001b[39mcontents\u001b[39m.\u001b[39mlen]\u001b[39m.\u001b[39mdecode(\u001b[39m'\u001b[39m\u001b[39mutf-8\u001b[39m\u001b[39m'\u001b[39m)\n\u001b[0;32m--> 239\u001b[0m         \u001b[39mraise\u001b[39;00m LumApiError(error)\n\u001b[1;32m    241\u001b[0m \u001b[39mreturn\u001b[39;00m h\n",
      "\u001b[0;31mLumApiError\u001b[0m: 'appOpen error: \\n Failed to start messaging, check licenses...Insufficient Ansys Lumerical Prep/post processing for FDTD solver licenses available.\\nLicensed number of users already reached.\\nFeature:       lum_fdtd_gui\\nLicense path:  1055@10.75.13.24:\\nFlexNet Licensing error:-4,132.  System Error: 2 \"No such file or directory\"\\n'"
     ]
    }
   ],
   "source": [
    "fdtd = lumapi.FDTD()"
   ]
  },
  {
   "cell_type": "code",
   "execution_count": 2,
   "metadata": {},
   "outputs": [
    {
     "ename": "NameError",
     "evalue": "name 'fdtd' is not defined",
     "output_type": "error",
     "traceback": [
      "\u001b[0;31m---------------------------------------------------------------------------\u001b[0m",
      "\u001b[0;31mNameError\u001b[0m                                 Traceback (most recent call last)",
      "\u001b[1;32m/media/leonardo/datam02/Bragg_Grating/Simulation/BraggAssembly.ipynb Cell 3\u001b[0m in \u001b[0;36m<cell line: 8>\u001b[0;34m()\u001b[0m\n\u001b[1;32m      <a href='vscode-notebook-cell:/media/leonardo/datam02/Bragg_Grating/Simulation/BraggAssembly.ipynb#W2sZmlsZQ%3D%3D?line=4'>5</a>\u001b[0m gratingPeriod \u001b[39m=\u001b[39m \u001b[39m344.3777e-9\u001b[39m\n\u001b[1;32m      <a href='vscode-notebook-cell:/media/leonardo/datam02/Bragg_Grating/Simulation/BraggAssembly.ipynb#W2sZmlsZQ%3D%3D?line=5'>6</a>\u001b[0m aux \u001b[39m=\u001b[39m \u001b[39m0\u001b[39m\n\u001b[0;32m----> <a href='vscode-notebook-cell:/media/leonardo/datam02/Bragg_Grating/Simulation/BraggAssembly.ipynb#W2sZmlsZQ%3D%3D?line=7'>8</a>\u001b[0m fdtd\u001b[39m.\u001b[39mswitchtolayout()\n\u001b[1;32m      <a href='vscode-notebook-cell:/media/leonardo/datam02/Bragg_Grating/Simulation/BraggAssembly.ipynb#W2sZmlsZQ%3D%3D?line=8'>9</a>\u001b[0m fdtd\u001b[39m.\u001b[39mdeleteall()\n\u001b[1;32m     <a href='vscode-notebook-cell:/media/leonardo/datam02/Bragg_Grating/Simulation/BraggAssembly.ipynb#W2sZmlsZQ%3D%3D?line=10'>11</a>\u001b[0m fdtd\u001b[39m.\u001b[39maddrect()\n",
      "\u001b[0;31mNameError\u001b[0m: name 'fdtd' is not defined"
     ]
    }
   ],
   "source": [
    "# Generate Bragg Grating Guide\n",
    "\n",
    "dw = 24e-9\n",
    "N = 82\n",
    "gratingPeriod = 344.3777e-9\n",
    "aux = 0\n",
    "\n",
    "fdtd.switchtolayout()\n",
    "fdtd.deleteall()\n",
    "\n",
    "fdtd.addrect()\n",
    "fdtd.set({\n",
    "    'x min'    : -5e-6,\n",
    "    'x max'    : 0,\n",
    "    'y'        : 0,\n",
    "    'y span'   : 0.45e-6,\n",
    "    'z'        : 0.11e-6,\n",
    "    'z span'   : 0.22e-6,\n",
    "    'material' : 'Si (Silicon) - Palik',\n",
    "    'name'     : 'waveguide'\n",
    "})\n",
    "\n",
    "for i in range(N):\n",
    "    fdtd.unselectall()\n",
    "    fdtd.addrect()\n",
    "    fdtd.addtogroup(\"bigger_grating\")\n",
    "    fdtd.set({\n",
    "        'x max'    : gratingPeriod/2 + aux,\n",
    "        'x min'    : 0 + aux,\n",
    "        'y'        : 0,\n",
    "        'y span'   : 0.45e-6 + 2*dw,\n",
    "        'z'        : 0.11e-6,\n",
    "        'z span'   : 0.22e-6,\n",
    "        'material' : 'Si (Silicon) - Palik',\n",
    "        'name'     : 'grating' + str(i) + 'bigger'\n",
    "    })\n",
    "    fdtd.unselectall()\n",
    "    fdtd.addrect()\n",
    "    fdtd.addtogroup(\"smaller_grating\")\n",
    "    fdtd.set({\n",
    "        'x max'    : gratingPeriod + aux,\n",
    "        'x min'    : gratingPeriod/2 + aux,\n",
    "        'y'        : 0,\n",
    "        'y span'   : 0.45e-6 - 2*dw,\n",
    "        'z'        : 0.11e-6,\n",
    "        'z span'   : 0.22e-6,\n",
    "        'material' : 'Si (Silicon) - Palik',\n",
    "        'name'     : 'grating' + str(i) + 'smaller'\n",
    "    })\n",
    "    aux = aux+gratingPeriod\n",
    "\n",
    "fdtd.unselectall()\n",
    "fdtd.addrect()\n",
    "fdtd.set({\n",
    "    'x max'    : 5e-6 + aux,\n",
    "    'x min'    : aux,\n",
    "    'y'        : 0,\n",
    "    'y span'   : 0.45e-6,\n",
    "    'z'        : 0.11e-6,\n",
    "    'z span'   : 0.22e-6,\n",
    "    'material' : 'Si (Silicon) - Palik',\n",
    "    'name'     : 'waveguide2'\n",
    "})\n",
    "\n",
    "fdtd.unselectall()\n",
    "fdtd.addrect()\n",
    "fdtd.set({\n",
    "    'x'        : aux/2,\n",
    "    'x span'   : aux + 10e-6,\n",
    "    'y'        : 0,\n",
    "    'y span'   : 8e-6,\n",
    "    'z span'   : 5e-6,\n",
    "    'z max'    : 0e-6,\n",
    "    'material' : 'SiO2 (Glass) - Palik',\n",
    "    'name'     : 'substract'\n",
    "})"
   ]
  },
  {
   "cell_type": "code",
   "execution_count": 5,
   "metadata": {},
   "outputs": [
    {
     "data": {
      "text/plain": [
       "0.17218885"
      ]
     },
     "execution_count": 5,
     "metadata": {},
     "output_type": "execute_result"
    }
   ],
   "source": [
    "gratingPeriod/2*1e6\n"
   ]
  },
  {
   "cell_type": "code",
   "execution_count": 4,
   "metadata": {},
   "outputs": [
    {
     "data": {
      "text/plain": [
       "1.0"
      ]
     },
     "execution_count": 4,
     "metadata": {},
     "output_type": "execute_result"
    }
   ],
   "source": [
    "# Ports and Simulation Region\n",
    "\n",
    "fdtd.unselectall()\n",
    "fdtd.addfdtd()\n",
    "fdtd.set({\n",
    "    'x'                                : aux/2,\n",
    "    'x span'                           : aux + 5e-6,\n",
    "    'y'                                : 0,\n",
    "    'y span'                           : 5e-6,\n",
    "    'z'                                : 0.11e-6,\n",
    "    'z span'                           : 3e-6,\n",
    "    'mesh accuracy'                    : 4,\n",
    "    'z min bc'                         : 'PML',\n",
    "    'z max bc'                         : 'PML',\n",
    "    'y max bc'                         : 'PML',\n",
    "    'y min bc'                         : 'Anti-Symmetric',\n",
    "    'set simulation bandwidth'         : 1,\n",
    "    'simulation time'                  : 3000e-15,\n",
    "    'simulation wavelength min'        : 1500e-9,\n",
    "    'simulation wavelength max'        : 1600e-9,\n",
    "})\n",
    "\n",
    "fdtd.unselectall()\n",
    "fdtd.addpower()\n",
    "fdtd.set({\n",
    "    'monitor type'          : '2D X-normal',\n",
    "    'x'                     : aux + 1e-6,\n",
    "    'y'                     : 0,\n",
    "    'y span'                : 4e-6,\n",
    "    'z'                     : 0.11e-6,\n",
    "    'z span'                : 2.5e-6,\n",
    "    'name'                  : 'power'\n",
    "})\n",
    "\n",
    "fdtd.addmode()\n",
    "fdtd.set({\n",
    "    'x' : -2e-6,\n",
    "    'y' : 0,\n",
    "    'y span' : 4e-6,\n",
    "    'z' : 0.11e-6,\n",
    "    'z span' : 2.5e-6,\n",
    "    'wavelength start': 1500e-9,\n",
    "    'wavelength stop' : 1600e-9\n",
    "})\n",
    "fdtd.setglobalmonitor('frequency points', 2000)"
   ]
  },
  {
   "cell_type": "code",
   "execution_count": 3,
   "metadata": {},
   "outputs": [
    {
     "ename": "NameError",
     "evalue": "name 'gratingPeriod' is not defined",
     "output_type": "error",
     "traceback": [
      "\u001b[0;31m---------------------------------------------------------------------------\u001b[0m",
      "\u001b[0;31mNameError\u001b[0m                                 Traceback (most recent call last)",
      "\u001b[1;32m/media/leonardo/datam02/Bragg_Grating/Simulation/BraggAssembly.ipynb Cell 5\u001b[0m in \u001b[0;36m<cell line: 1>\u001b[0;34m()\u001b[0m\n\u001b[0;32m----> <a href='vscode-notebook-cell:/media/leonardo/datam02/Bragg_Grating/Simulation/BraggAssembly.ipynb#W4sZmlsZQ%3D%3D?line=0'>1</a>\u001b[0m \u001b[39mprint\u001b[39m(\u001b[39m'\u001b[39m\u001b[39mThe Length of the guide is\u001b[39m\u001b[39m'\u001b[39m \u001b[39m+\u001b[39m \u001b[39mstr\u001b[39m(gratingPeriod\u001b[39m*\u001b[39mN\u001b[39m*\u001b[39m\u001b[39m1e6\u001b[39m) \u001b[39m+\u001b[39m \u001b[39m'\u001b[39m\u001b[39mum\u001b[39m\u001b[39m'\u001b[39m)\n",
      "\u001b[0;31mNameError\u001b[0m: name 'gratingPeriod' is not defined"
     ]
    }
   ],
   "source": [
    "print('The Length of the guide is' + str(gratingPeriod*N*1e6) + 'um')"
   ]
  },
  {
   "cell_type": "code",
   "execution_count": 15,
   "metadata": {},
   "outputs": [],
   "source": [
    "fdtd.run()"
   ]
  },
  {
   "cell_type": "code",
   "execution_count": 16,
   "metadata": {},
   "outputs": [],
   "source": [
    "result = fdtd.getresult('power', 'T')\n",
    "T = abs(np.transpose(result['T']))**2\n",
    "wavelength = result['lambda']\n",
    "r = 1 - T"
   ]
  },
  {
   "cell_type": "code",
   "execution_count": 17,
   "metadata": {},
   "outputs": [
    {
     "name": "stdout",
     "output_type": "stream",
     "text": [
      "FWHM = [-31.7444]nm\n",
      "[1.54861201e-06]\n"
     ]
    },
    {
     "data": {
      "text/latex": [
       "$\\displaystyle \\Lambda_B = 1550.61 nm$"
      ],
      "text/plain": [
       "<IPython.core.display.Math object>"
      ]
     },
     "metadata": {},
     "output_type": "display_data"
    },
    {
     "data": {
      "image/png": "[encoded data removed]",
      "text/plain": [
       "<Figure size 864x720 with 1 Axes>"
      ]
     },
     "metadata": {
      "needs_background": "light"
     },
     "output_type": "display_data"
    },
    {
     "ename": "",
     "evalue": "",
     "output_type": "error",
     "traceback": [
      "\u001b[1;31mO Kernel falhou ao executar o código na célula atual ou em uma célula anterior. Examine o código nas células para identificar uma possível causa da falha. Clique <a href=\"https://aka.ms/vscodeJupyterKernelCrash\">aqui</a> para obter mais informações. Consulte o <a href='command:jupyter.viewOutput'>log</a> do Jupyter para obter mais detalhes."
     ]
    }
   ],
   "source": [
    "figure1 = plt.figure(figsize=(12,10))\n",
    "#plt.plot(wavelength*1e9, r1, linewidth = 3, label = 'r1')\n",
    "plt.plot(wavelength*1e9, r, linewidth = 3)\n",
    "plt.grid()\n",
    "plt.xlim(1500,1600)\n",
    "plt.ylim(0,1.05)\n",
    "plt.title('FDTD Wavelength Sweep', size = 20)\n",
    "plt.xlabel('Wavelength (nm)', size = '15')\n",
    "plt.ylabel('Reflectivity', size = '15')\n",
    "a, min, max = fwhm(wavelength, r, False)\n",
    "plt.plot(wavelength[min]*1e9, a, 'o',color='black')\n",
    "plt.plot(wavelength[max]*1e9, a, 'o',color='black')\n",
    "plt.xticks(np.arange(1500,1600,step=10), size = '15')\n",
    "#plt.savefig('FDTD_Wavelength_Sweep')\n",
    "aux = int((min+max)/2)\n",
    "print(wavelength[aux])\n",
    "#plt.legend()\n",
    "\n",
    "peak, pd = find_peaks(r)\n",
    "display(Math('$\\Lambda_B = %5.2f nm' %(wavelength[peak[np.argmax(r[peak])]][0]*1e9)))"
   ]
  },
  {
   "cell_type": "code",
   "execution_count": null,
   "metadata": {},
   "outputs": [],
   "source": []
  }
 ],
 "metadata": {
  "kernelspec": {
   "display_name": "Python 3.8.10 64-bit",
   "language": "python",
   "name": "python3"
  },
  "language_info": {
   "codemirror_mode": {
    "name": "ipython",
    "version": 3
   },
   "file_extension": ".py",
   "mimetype": "text/x-python",
   "name": "python",
   "nbconvert_exporter": "python",
   "pygments_lexer": "ipython3",
   "version": "3.8.10"
  },
  "orig_nbformat": 4,
  "vscode": {
   "interpreter": {
    "hash": "31f2aee4e71d21fbe5cf8b01ff0e069b9275f58929596ceb00d14d90e3e16cd6"
   }
  }
 },
 "nbformat": 4,
 "nbformat_minor": 2
}
