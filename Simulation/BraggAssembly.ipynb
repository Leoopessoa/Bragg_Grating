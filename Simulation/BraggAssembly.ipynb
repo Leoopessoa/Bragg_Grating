{
 "cells": [
  {
   "cell_type": "code",
   "execution_count": 1,
   "metadata": {},
   "outputs": [
    {
     "name": "stderr",
     "output_type": "stream",
     "text": [
      "C:\\Users\\lecob\\AppData\\Local\\Temp\\ipykernel_13400\\57351922.py:8: DeprecationWarning: the imp module is deprecated in favour of importlib; see the module's documentation for alternative uses\n",
      "  import imp\n"
     ]
    }
   ],
   "source": [
    "# 25 nm - 1550 nm\n",
    "\n",
    "import os\n",
    "import matplotlib.pyplot as plt\n",
    "import numpy as np\n",
    "import math\n",
    "import pandas as pd\n",
    "import imp\n",
    "import sys\n",
    "import pickle as plk\n",
    "import importlib.util\n",
    "from numpy.lib.scimath import sqrt as csqrt\n",
    "from IPython.display import display, Math, clear_output\n",
    "from scipy.signal import find_peaks\n",
    "###############################################################\n",
    "#LINUX PATH\n",
    "\n",
    "# sys.path.append(\"/opt/lumerical/v221/api/python\") #Default linux lumapi path\n",
    "# import lumapi\n",
    "# sys.path.append(os.path.dirname('/media/leonardo/datam02/Ring Resonator - Leonardo Pessôa/Ring-Resonator/Tutorial/')) #Current directory\n",
    "\n",
    "###############################################################\n",
    "# WINDOWS PATH\n",
    "spec_win = importlib.util.spec_from_file_location('lumapi', 'C:\\\\Program Files\\\\Lumerical\\\\v202\\\\api\\\\python\\\\lumapi.py')\n",
    "lumapi = importlib.util.module_from_spec(spec_win)\n",
    "os.add_dll_directory(\"C:/Program Files/Lumerical/v202/api/python\")\n",
    "sys.path.append(os.path.dirname('D:/AAAAAAAArquivos/Facul/Capacitação/GitHub/BraggGrating'))\n",
    "spec_win.loader.exec_module(lumapi)\n",
    "\n",
    "def fwhm(band, reflection, dB):\n",
    "    from scipy.signal import find_peaks\n",
    "    peak, pd = find_peaks(reflection)\n",
    "    rmax = reflection[peak[np.argmax(reflection[peak])]]\n",
    "\n",
    "    min = 0\n",
    "    max = 0\n",
    "\n",
    "    if dB == True: \n",
    "        dB = 3\n",
    "        rmax = rmax-dB\n",
    "    else: \n",
    "        dB = 0 \n",
    "        rmax = rmax/2\n",
    "\n",
    "    for i in range(peak[np.argmax(reflection[peak])], 0, -1):\n",
    "        if (reflection[i] <(rmax) and reflection[i+1] < (rmax)):\n",
    "            min = i\n",
    "            break\n",
    "\n",
    "    for i in range(peak[np.argmax(reflection[peak])], len(band) - 1):\n",
    "        if (reflection[i-1] > (rmax) and reflection[i] < (rmax)):\n",
    "            max = i\n",
    "            break\n",
    "\n",
    "    print('FWHM = '+ str(np.round((band[max]-band[min])*1e9,4)) + 'nm')\n",
    "\n",
    "    r = (reflection[min] +reflection[max])/2\n",
    "\n",
    "    \n",
    "    return r,min,max"
   ]
  },
  {
   "cell_type": "code",
   "execution_count": 2,
   "metadata": {},
   "outputs": [],
   "source": [
    "fdtd = lumapi.FDTD()"
   ]
  },
  {
   "cell_type": "code",
   "execution_count": 68,
   "metadata": {},
   "outputs": [],
   "source": [
    "# Simulation on EME\n",
    "\n",
    "dw = 24e-9\n",
    "N = 82\n",
    "gratingPeriod = 344.3777e-9\n",
    "aux = 0\n",
    "\n",
    "fdtd.switchtolayout()\n",
    "fdtd.deleteall()\n",
    "\n",
    "fdtd.addrect()\n",
    "fdtd.set({\n",
    "    'x min'    : -5e-6,\n",
    "    'x max'    : 0,\n",
    "    'y'        : 0,\n",
    "    'y span'   : 0.45e-6,\n",
    "    'z'        : 0.11e-6,\n",
    "    'z span'   : 0.22e-6,\n",
    "    'material' : 'Si (Silicon) - Palik',\n",
    "    'name'     : 'waveguide'\n",
    "})\n",
    "\n",
    "for i in range(N):\n",
    "    fdtd.unselectall()\n",
    "    fdtd.addrect()\n",
    "    fdtd.set({\n",
    "        'x max'    : gratingPeriod/2 + aux,\n",
    "        'x min'    : 0 + aux,\n",
    "        'y'        : 0,\n",
    "        'y span'   : 0.45e-6 + 2*dw,\n",
    "        'z'        : 0.11e-6,\n",
    "        'z span'   : 0.22e-6,\n",
    "        'material' : 'Si (Silicon) - Palik',\n",
    "        'name'     : 'grating' + str(i) + 'bigger'\n",
    "    })\n",
    "    fdtd.unselectall()\n",
    "    fdtd.addrect()\n",
    "    fdtd.set({\n",
    "        'x max'    : gratingPeriod + aux,\n",
    "        'x min'    : gratingPeriod/2 + aux,\n",
    "        'y'        : 0,\n",
    "        'y span'   : 0.45e-6 - 2*dw,\n",
    "        'z'        : 0.11e-6,\n",
    "        'z span'   : 0.22e-6,\n",
    "        'material' : 'Si (Silicon) - Palik',\n",
    "        'name'     : 'grating' + str(i) + 'smaller'\n",
    "    })\n",
    "    aux = aux+gratingPeriod\n",
    "\n",
    "fdtd.unselectall()\n",
    "fdtd.addrect()\n",
    "fdtd.set({\n",
    "    'x max'    : 5e-6 + aux,\n",
    "    'x min'    : aux,\n",
    "    'y'        : 0,\n",
    "    'y span'   : 0.45e-6,\n",
    "    'z'        : 0.11e-6,\n",
    "    'z span'   : 0.22e-6,\n",
    "    'material' : 'Si (Silicon) - Palik',\n",
    "    'name'     : 'waveguide2'\n",
    "})\n",
    "\n",
    "fdtd.unselectall()\n",
    "fdtd.addrect()\n",
    "fdtd.set({\n",
    "    'x'        : aux/2,\n",
    "    'x span'   : aux + 10e-6,\n",
    "    'y'        : 0,\n",
    "    'y span'   : 8e-6,\n",
    "    'z span'   : 5e-6,\n",
    "    'z max'    : 0e-6,\n",
    "    'material' : 'SiO2 (Glass) - Palik',\n",
    "    'name'     : 'substract'\n",
    "})\n",
    "\n",
    "fdtd.unselectall()\n",
    "fdtd.addfdtd()\n",
    "fdtd.set({\n",
    "    'x'                                : aux/2,\n",
    "    'x span'                           : aux + 5e-6,\n",
    "    'y'                                : 0,\n",
    "    'y span'                           : 6e-6,\n",
    "    'z'                                : 0.11e-6,\n",
    "    'z span'                           : 4e-6,\n",
    "    'mesh accuracy'                    : 4,\n",
    "    'allow symmetry on all boundaries' : 1,\n",
    "    'z min bc'                         : 'PML',\n",
    "    'z max bc'                         : 'PML',\n",
    "    'y max bc'                         : 'Anti-Symmetric',\n",
    "    'y min bc'                         : 'Anti-Symmetric',\n",
    "    'set simulation bandwidth'         : 1,\n",
    "    'simulation wavelength min'        : 1500e-9,\n",
    "    'simulation wavelength max'        : 1600e-9,\n",
    "})\n",
    "\n",
    "fdtd.unselectall()\n",
    "fdtd.addport()\n",
    "fdtd.set({\n",
    "    'x'                     : -1e-6,\n",
    "    'y'                     : 0,\n",
    "    'y span'                : 4e-6,\n",
    "    'z'                     : 0.11e-6,\n",
    "    'z span'                : 2.5e-6,\n",
    "})\n",
    "\n",
    "fdtd.unselectall()\n",
    "fdtd.addport()\n",
    "fdtd.set({\n",
    "    'x'                     : aux + 1e-6,\n",
    "    'y'                     : 0,\n",
    "    'y span'                : 4e-6,\n",
    "    'z'                     : 0.11e-6,\n",
    "    'z span'                : 2.5e-6,\n",
    "    'direction'             : 'Backward'\n",
    "})\n",
    "\n",
    "fdtd.select('FDTD::ports')\n",
    "fdtd.set('monitor frequency points',500)"
   ]
  },
  {
   "cell_type": "code",
   "execution_count": 11,
   "metadata": {},
   "outputs": [
    {
     "name": "stdout",
     "output_type": "stream",
     "text": [
      "28.2389714um\n"
     ]
    }
   ],
   "source": [
    "print(str(gratingPeriod*N*1e6) + 'um')"
   ]
  },
  {
   "cell_type": "code",
   "execution_count": 69,
   "metadata": {},
   "outputs": [],
   "source": [
    "result = fdtd.getresult('FDTD::ports::port 1', 'T')\n",
    "wavelength = result['lambda']\n",
    "T = abs(np.transpose(result['T']))**2\n",
    "\n",
    "r = 1 - T"
   ]
  },
  {
   "cell_type": "code",
   "execution_count": 70,
   "metadata": {},
   "outputs": [
    {
     "name": "stdout",
     "output_type": "stream",
     "text": [
      "FWHM = [0.]nm\n"
     ]
    },
    {
     "data": {
      "text/latex": [
       "$\\displaystyle \\Lambda_B = 1550.29 nm$"
      ],
      "text/plain": [
       "<IPython.core.display.Math object>"
      ]
     },
     "metadata": {},
     "output_type": "display_data"
    },
    {
     "data": {
      "image/png": "[encoded data removed]",
      "text/plain": [
       "<Figure size 864x720 with 1 Axes>"
      ]
     },
     "metadata": {
      "needs_background": "light"
     },
     "output_type": "display_data"
    }
   ],
   "source": [
    "figure1 = plt.figure(figsize=(12,10))\n",
    "plt.plot(wavelength*1e9, r, linewidth = 3)\n",
    "plt.grid()\n",
    "plt.xlim(1500,1600)\n",
    "plt.ylim(0,1.05)\n",
    "plt.title('FDTD Wavelength Sweep', size = 20)\n",
    "plt.xlabel('Wavelength (nm)', size = '15')\n",
    "plt.ylabel('Reflectivity', size = '15')\n",
    "a, min, max = fwhm(wavelength, r, False)\n",
    "plt.plot(wavelength[min]*1e9, a, 'o',color='black')\n",
    "plt.plot(wavelength[max]*1e9, a, 'o',color='black')\n",
    "plt.plot([wavelength[min]*1e9,wavelength[max]*1e9],[r, r],linestyle='--', color = 'black')\n",
    "plt.xticks(np.arange(1500,1600,step=10), size = '15')\n",
    "plt.savefig('FDTD_Wavelength_Sweep')\n",
    "\n",
    "peak, pd = find_peaks(r)\n",
    "display(Math('$\\Lambda_B = %5.2f nm' %(wavelength[peak[np.argmax(r[peak])]][0]*1e9)))"
   ]
  }
 ],
 "metadata": {
  "kernelspec": {
   "display_name": "Python 3.9.13 64-bit (microsoft store)",
   "language": "python",
   "name": "python3"
  },
  "language_info": {
   "codemirror_mode": {
    "name": "ipython",
    "version": 3
   },
   "file_extension": ".py",
   "mimetype": "text/x-python",
   "name": "python",
   "nbconvert_exporter": "python",
   "pygments_lexer": "ipython3",
   "version": "3.9.13"
  },
  "orig_nbformat": 4,
  "vscode": {
   "interpreter": {
    "hash": "bf076ef5822da1ce46e875877599a0fd2da3bc7135f315e9f790aa9e65b3b6ff"
   }
  }
 },
 "nbformat": 4,
 "nbformat_minor": 2
}
